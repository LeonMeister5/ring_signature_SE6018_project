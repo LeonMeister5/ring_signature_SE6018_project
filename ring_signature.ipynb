{
 "cells": [
  {
   "cell_type": "code",
   "execution_count": 66,
   "metadata": {},
   "outputs": [],
   "source": [
    "matrix_card = 'G2406344B'\n",
    "# treat it as ascii\n",
    "matrix_card_binary = ''.join(format(ord(char), '08b') for char in matrix_card)\n",
    "# binary to int\n",
    "matrix_card_int = int(matrix_card_binary, 2)\n"
   ]
  },
  {
   "cell_type": "code",
   "execution_count": 67,
   "metadata": {},
   "outputs": [],
   "source": [
    "# protocol parameter\n",
    "key_length = 1024\n",
    "\n",
    "# parameter\n",
    "binary_v = bin(matrix_card_int)[2:]  # 转换为二进制字符串并去掉 '0b' 前缀\n",
    "missing_bits = key_length - len(binary_v)\n",
    "if missing_bits > 0:\n",
    "    padded_binary_v = binary_v + '0' * missing_bits\n",
    "else:\n",
    "    padded_binary_v = binary_v\n",
    "v = int(padded_binary_v, 2)\n",
    "\n",
    "x1 = 1\n",
    "x2 = 114514\n",
    "x3 = 3\n",
    "iv = b'\\x00' * 16\n",
    "\n",
    "# hash input\n",
    "file_path = '1.pdf'\n"
   ]
  },
  {
   "cell_type": "code",
   "execution_count": 68,
   "metadata": {},
   "outputs": [],
   "source": [
    "#library\n",
    "\n",
    "import rsa_generation\n",
    "\n",
    "# SHA3\n",
    "import hashlib\n",
    "\n",
    "# AES-128\n",
    "from Crypto.Cipher import AES\n",
    "from Crypto.Util.Padding import pad, unpad\n"
   ]
  },
  {
   "cell_type": "code",
   "execution_count": 69,
   "metadata": {},
   "outputs": [],
   "source": [
    "# Get first 128 bits of shake128 hash digest of the pdf file\n",
    "\n",
    "\n",
    "def calculate_shake128_128bit_digest(file_path):\n",
    "    try:\n",
    "        # open as binary\n",
    "        with open(file_path, 'rb') as file:\n",
    "            shake128 = hashlib.shake_128()\n",
    "            for chunk in iter(lambda: file.read(4096), b\"\"):\n",
    "                shake128.update(chunk)\n",
    "            # only obtain first 128 bits\n",
    "            digest = shake128.digest(16)\n",
    "            return digest\n",
    "    except FileNotFoundError:\n",
    "        print(f\"Error: file {file_path} not found.\")\n",
    "        return None\n",
    "    except Exception as e:\n",
    "        print(f\"Unknown error: {e}.\")\n",
    "        return None\n",
    "    "
   ]
  },
  {
   "cell_type": "code",
   "execution_count": 70,
   "metadata": {},
   "outputs": [],
   "source": [
    "# AES-128\n",
    "\n",
    "\n",
    "def aes_128_cbc_encrypt(plaintext, key, iv):\n",
    "    # int to byte\n",
    "    plaintext_bytes = plaintext.to_bytes((plaintext.bit_length() + 7) // 8, byteorder='big')\n",
    "    cipher = AES.new(key, AES.MODE_CBC, iv)\n",
    "    ciphertext = cipher.encrypt(pad(plaintext_bytes, AES.block_size))\n",
    "    # byte to int\n",
    "    ciphertext_int = int.from_bytes(ciphertext, byteorder='big')\n",
    "    return ciphertext_int\n",
    "\n",
    "\n",
    "def aes_128_cbc_decrypt(ciphertext, key, iv):\n",
    "    # int to byte\n",
    "    ciphertext_bytes = ciphertext.to_bytes((ciphertext.bit_length() + 7) // 8, byteorder='big')\n",
    "    cipher = AES.new(key, AES.MODE_CBC, iv)\n",
    "    decrypted_text = unpad(cipher.decrypt(ciphertext_bytes), AES.block_size)\n",
    "    # byte to int\n",
    "    decrypted_text_int = int.from_bytes(decrypted_text, byteorder='big')\n",
    "    return decrypted_text_int"
   ]
  },
  {
   "cell_type": "code",
   "execution_count": 71,
   "metadata": {},
   "outputs": [],
   "source": [
    "# ring signature with 3 user\n",
    "\n",
    "\n",
    "def bitwise_xor(a, b):\n",
    "    return a ^ b\n",
    "\n",
    "def ring_signature_compute_result(v, rsa_users, xs, f_add, f_syn_enc, key_sync, iv_sync):\n",
    "    result = v\n",
    "    for rsa_user, x in zip(rsa_users, xs):\n",
    "        result = f_add(result, rsa_user.encrypt(x))\n",
    "        result = f_syn_enc(result, key_sync, iv_sync)\n",
    "    return result  # expected to be the same as v\n"
   ]
  },
  {
   "cell_type": "code",
   "execution_count": 72,
   "metadata": {},
   "outputs": [],
   "source": [
    "'''main function here'''\n",
    "users = []\n",
    "for i in range(1, 4):\n",
    "    file_path = f'user{i}_keys.txt'\n",
    "    user = rsa_generation.read_user_from_file(file_path)\n",
    "    users.append(user)"
   ]
  },
  {
   "cell_type": "code",
   "execution_count": 73,
   "metadata": {},
   "outputs": [],
   "source": [
    "hash_result = calculate_shake128_128bit_digest(file_path)\n"
   ]
  },
  {
   "cell_type": "code",
   "execution_count": 74,
   "metadata": {},
   "outputs": [
    {
     "name": "stdout",
     "output_type": "stream",
     "text": [
      "99991215682665843033985070196595166436044456037235186225817984897421738428148905041599778953441369052565566769336895846599884886454454445402668923576436813917499547546355530983776590577744626677023122268963465745338814663670730182080318619769616369804626532506219915024275340383819518515785846291287173496832\n",
      "6208131754526899097340384825994320927639483742319227992386194019510068398561816837720300951189997456833360075408939665764864726517863922920040672675233089276484546321944412579907103471167607684545393058765193467167694848836635800296564280526061531103315769621025390256248508470908456775950599044285011524101433587735816680630802656419732596078943923812717395937276984268265059292573714767972379565783868770654488213184721968\n",
      "OMG something is wrong TAT!\n"
     ]
    }
   ],
   "source": [
    "xs = [x1, x2, x3]\n",
    "print(v)\n",
    "with open('output.txt', 'w') as file:\n",
    "    file.write(str(v) + '\\n')\n",
    "v_should_be_the_same_as_v = ring_signature_compute_result(v, users, xs, bitwise_xor, aes_128_cbc_encrypt, iv, hash_result)\n",
    "print(v_should_be_the_same_as_v)\n",
    "with open('output.txt', 'a') as file:\n",
    "    file.write(str(v_should_be_the_same_as_v) + '\\n')\n",
    "if v == v_should_be_the_same_as_v:\n",
    "    message = 'Yes this project is f****** awesome!'\n",
    "    print(message)\n",
    "    with open('output.txt', 'a') as file:\n",
    "        file.write(message + '\\n')\n",
    "else:\n",
    "    message = 'OMG something is wrong TAT!'\n",
    "    print(message)\n",
    "    with open('output.txt', 'a') as file:\n",
    "        file.write(message + '\\n')\n",
    "        "
   ]
  }
 ],
 "metadata": {
  "kernelspec": {
   "display_name": "Python 3",
   "language": "python",
   "name": "python3"
  },
  "language_info": {
   "codemirror_mode": {
    "name": "ipython",
    "version": 3
   },
   "file_extension": ".py",
   "mimetype": "text/x-python",
   "name": "python",
   "nbconvert_exporter": "python",
   "pygments_lexer": "ipython3",
   "version": "3.12.0"
  }
 },
 "nbformat": 4,
 "nbformat_minor": 2
}
