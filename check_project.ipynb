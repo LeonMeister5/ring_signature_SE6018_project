{
 "cells": [
  {
   "cell_type": "code",
   "execution_count": 2,
   "id": "97ede913",
   "metadata": {},
   "outputs": [
    {
     "data": {
      "text/plain": [
       "{'Success': 100, 'Failure': 0, 'check_project.ipynb is bugged': 0}"
      ]
     },
     "execution_count": 2,
     "metadata": {},
     "output_type": "execute_result"
    }
   ],
   "source": [
    "import subprocess\n",
    "\n",
    "# 3 commands\n",
    "commands = [\n",
    "    \"python rsa_generation.py\",\n",
    "    \"python calculate_x2.py\",\n",
    "    \"python ring_signature.py\"\n",
    "]\n",
    "\n",
    "def run_command(command):\n",
    "    result = subprocess.run(command, shell=True, capture_output=True, text=True)\n",
    "    return result.stdout\n",
    "\n",
    "def check_output(output):\n",
    "    if 'Yes' in output:\n",
    "        return 'Success'\n",
    "    elif 'OMG' in output:\n",
    "        return 'Failure'\n",
    "    return None\n",
    "\n",
    "def validate_script_execution(repeat_count=100):\n",
    "    results = {\"Success\": 0, \"Failure\": 0, \"check_project.ipynb is bugged\": 0}\n",
    "    \n",
    "    for _ in range(repeat_count):\n",
    "        output = \"\"\n",
    "        for command in commands:\n",
    "            output += run_command(command)\n",
    "        \n",
    "        result = check_output(output)\n",
    "        if result == \"Success\":\n",
    "            results[\"Success\"] += 1\n",
    "        elif result == \"Failure\":\n",
    "            results[\"Failure\"] += 1\n",
    "        else:\n",
    "            results[\"check_project.ipynb is bugged\"] += 1\n",
    "    \n",
    "    return results\n",
    "\n",
    "results = validate_script_execution()\n",
    "results\n"
   ]
  }
 ],
 "metadata": {
  "kernelspec": {
   "display_name": "Python 3",
   "language": "python",
   "name": "python3"
  },
  "language_info": {
   "codemirror_mode": {
    "name": "ipython",
    "version": 3
   },
   "file_extension": ".py",
   "mimetype": "text/x-python",
   "name": "python",
   "nbconvert_exporter": "python",
   "pygments_lexer": "ipython3",
   "version": "3.12.3"
  }
 },
 "nbformat": 4,
 "nbformat_minor": 5
}
